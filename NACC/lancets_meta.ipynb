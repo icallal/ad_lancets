{
 "cells": [
  {
   "cell_type": "code",
   "execution_count": 1,
   "id": "2a2e0780",
   "metadata": {},
   "outputs": [],
   "source": [
    "import pandas as pd\n",
    "\n",
    "df = pd.read_parquet('NACC_cleaned.parquet', engine = 'fastparquet')\n",
    "covariates = df[['NACCID', 'DEPD', 'HYPERTEN', 'SMOKYRS', 'ALCOHOL', 'HEARING', 'EDUC', 'NACCBMI', 'NACCAGE', 'SEX', 'RACE', 'NACCAPOE', 'ad_dx']]\n",
    "lancet_covs = ['DEPD', 'HYPERTEN', 'SMOKYRS', 'ALCOHOL', 'HEARING', 'EDUC', 'NACCBMI']"
   ]
  },
  {
   "cell_type": "code",
   "execution_count": 5,
   "id": "31dee2dc",
   "metadata": {},
   "outputs": [
    {
     "data": {
      "text/plain": [
       "array(['NACC002909', 'NACC003487', 'NACC004352', ..., 'NACC998475',\n",
       "       'NACC999391', 'NACC999420'], shape=(54025,), dtype=object)"
      ]
     },
     "execution_count": 5,
     "metadata": {},
     "output_type": "execute_result"
    }
   ],
   "source": [
    "df['NACCID'].unique()"
   ]
  },
  {
   "cell_type": "code",
   "execution_count": 2,
   "id": "2b4d5c54",
   "metadata": {},
   "outputs": [
    {
     "data": {
      "text/plain": [
       "0         16.0\n",
       "1         16.0\n",
       "2         16.0\n",
       "3         16.0\n",
       "4         12.0\n",
       "          ... \n",
       "201347    13.0\n",
       "201348    13.0\n",
       "201349    13.0\n",
       "201350    13.0\n",
       "201351    18.0\n",
       "Name: EDUC, Length: 201352, dtype: float64"
      ]
     },
     "execution_count": 2,
     "metadata": {},
     "output_type": "execute_result"
    }
   ],
   "source": [
    "df['EDUC']"
   ]
  },
  {
   "cell_type": "code",
   "execution_count": null,
   "id": "a2469181",
   "metadata": {},
   "outputs": [],
   "source": [
    "# handle missing data\n",
    "covariates['DEPD'] = covariates['DEPD'].fillna(0) # if missing depression, assume no depression\n",
    "covariates['HYPERTEN'] = covariates['HYPERTEN'].fillna(0) # if missing hypertension, assume no hypertension\n",
    "covariates['SMOKYRS'] = covariates['SMOKYRS'].fillna(covariates['SMOKYRS'].mean()) # if missing smoking years, assume mean\n",
    "covariates['ALCOHOL'] = covariates['ALCOHOL'].fillna(0) # if missing alcohol, assume no alcohol\n",
    "covariates['HEARING'] = covariates['HEARING'].fillna(0) # if missing hearing loss, assume no hearing loss\n",
    "covariates['NACCBMI'] = covariates['NACCBMI'].fillna(covariates['NACCBMI'].mean()) # if missing BMI, assume mean\n",
    "\n",
    "covariates = covariates.dropna(subset=['NACCAPOE', 'EDUC', 'RACE'])\n",
    "# covariates['NACCAPOE'] = covariates['NACCAPOE'].ffill()\n",
    "# covariates['EDUC'] = covariates['EDUC'].fillna(covariates['EDUC'].mean())\n",
    "# covariates['RACE'] = covariates['RACE'].ffill().bfill()"
   ]
  },
  {
   "cell_type": "code",
   "execution_count": null,
   "id": "4e5f339d",
   "metadata": {},
   "outputs": [],
   "source": [
    "import sys\n",
    "sys.path.append('../ukb')  # adjust the path as needed\n",
    "from doubleml_utils import encode\n",
    "\n",
    "covariates = encode(covariates, 'NACCAPOE', 'apoe')\n"
   ]
  },
  {
   "cell_type": "code",
   "execution_count": null,
   "id": "7c59f510",
   "metadata": {},
   "outputs": [],
   "source": [
    "covariates"
   ]
  },
  {
   "cell_type": "code",
   "execution_count": null,
   "id": "859e0457",
   "metadata": {},
   "outputs": [],
   "source": [
    "import sys\n",
    "import sys\n",
    "sys.path.append('../ukb')  # adjust the path as needed\n",
    "from doubleml_utils import run_dml\n",
    "\n",
    "lancet_covs = ['DEPD', 'HYPERTEN', 'SMOKYRS', 'ALCOHOL', 'HEARING', 'EDUC', 'NACCBMI']\n",
    "\n",
    "def assess_lancets_dml(features): \n",
    "    feature_summaries = {}\n",
    "    for feature in features: \n",
    "        print(f\"Running DML for feature: {feature}\")\n",
    "        covariate = covariates[['NACCAGE', 'SEX', 'apoe_e2/e2', 'apoe_e2/e3', 'apoe_e2/e4', 'apoe_e3/e3', 'apoe_e3/e4', 'apoe_e4/e4']]\n",
    "        outcome = covariates['ad_dx']\n",
    "        exposure = covariates[feature]\n",
    "\n",
    "        dml_model = run_dml(covariate, outcome, exposure)\n",
    "        feature_summaries[feature] = dml_model.summary\n",
    "    \n",
    "    return feature_summaries\n",
    "\n",
    "results = assess_lancets_dml(lancet_covs)"
   ]
  },
  {
   "cell_type": "code",
   "execution_count": 21,
   "id": "c1056575",
   "metadata": {},
   "outputs": [],
   "source": [
    "rows = []\n",
    "\n",
    "for test_id, df in results.items():\n",
    "    # Pull the row for `d` as a dictionary and tag with the test_id\n",
    "    row = df.loc['d'].to_dict()\n",
    "    row['test_id'] = test_id\n",
    "    rows.append(row)\n",
    "\n",
    "# Convert to a DataFrame\n",
    "summary_df = pd.DataFrame(rows)\n",
    "\n",
    "# Move 'test_id' to the front\n",
    "summary_df = summary_df[['test_id'] + [col for col in summary_df.columns if col != 'test_id']]"
   ]
  },
  {
   "cell_type": "code",
   "execution_count": 23,
   "id": "9696d00d",
   "metadata": {},
   "outputs": [],
   "source": [
    "summary_df.to_csv('./double_ml/nacc_lancet_meta.txt')"
   ]
  }
 ],
 "metadata": {
  "kernelspec": {
   "display_name": "lowpyAD",
   "language": "python",
   "name": "python3"
  },
  "language_info": {
   "codemirror_mode": {
    "name": "ipython",
    "version": 3
   },
   "file_extension": ".py",
   "mimetype": "text/x-python",
   "name": "python",
   "nbconvert_exporter": "python",
   "pygments_lexer": "ipython3",
   "version": "3.10.18"
  }
 },
 "nbformat": 4,
 "nbformat_minor": 5
}

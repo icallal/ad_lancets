{
 "cells": [
  {
   "cell_type": "code",
   "execution_count": 1,
   "id": "a424882d",
   "metadata": {},
   "outputs": [
    {
     "name": "stdout",
     "output_type": "stream",
     "text": [
      "{20197: ['../../../uk_biobank/project_52887_42640/fields.ukb', '../../../uk_biobank/project_52887_669338/fields.ukb'], 21001: ['../../../uk_biobank/project_52887_41230/fields.ukb', '../../../uk_biobank/project_52887_42640/fields.ukb', '../../../uk_biobank/project_52887_669338/fields.ukb'], 6348: ['../../../uk_biobank/project_52887_42640/fields.ukb', '../../../uk_biobank/project_52887_669338/fields.ukb'], 6349: ['../../../uk_biobank/project_52887_42640/fields.ukb', '../../../uk_biobank/project_52887_669338/fields.ukb'], 6350: ['../../../uk_biobank/project_52887_42640/fields.ukb', '../../../uk_biobank/project_52887_669338/fields.ukb'], 6351: ['../../../uk_biobank/project_52887_42640/fields.ukb', '../../../uk_biobank/project_52887_669338/fields.ukb'], 20016: ['../../../uk_biobank/project_52887_42640/fields.ukb', '../../../uk_biobank/project_52887_669338/fields.ukb'], 400: ['../../../uk_biobank/project_52887_42640/fields.ukb', '../../../uk_biobank/project_52887_669338/fields.ukb'], 20018: ['../../../uk_biobank/project_52887_42640/fields.ukb', '../../../uk_biobank/project_52887_669338/fields.ukb'], 6325: [], 20023: ['../../../uk_biobank/project_52887_42640/fields.ukb', '../../../uk_biobank/project_52887_669338/fields.ukb'], 4282: ['../../../uk_biobank/project_52887_42640/fields.ukb', '../../../uk_biobank/project_52887_669338/fields.ukb'], 6333: ['../../../uk_biobank/project_52887_42640/fields.ukb', '../../../uk_biobank/project_52887_669338/fields.ukb']}\n",
      "Search completed.\n"
     ]
    }
   ],
   "source": [
    "import os\n",
    "import pandas as pd\n",
    "import pickle\n",
    "\n",
    "def id_loc(id_check, main_directory=\"../../../uk_biobank\"):\n",
    "    \"\"\"\n",
    "    Search for 'fields.ukb' files one directory down from main_directory,\n",
    "    and return a dict mapping each ID to a list of file paths where it is found.\n",
    "    \"\"\"\n",
    "    # Ensure all IDs are integers for comparison\n",
    "    id_check = set(int(i) for i in id_check)\n",
    "    id_to_files = {i: [] for i in id_check}\n",
    "\n",
    "    for entry in os.listdir(main_directory):\n",
    "        dir_path = os.path.join(main_directory, entry)\n",
    "        if not os.path.isdir(dir_path):\n",
    "            continue\n",
    "\n",
    "        target_file_path = os.path.join(dir_path, \"fields.ukb\")\n",
    "        if not os.path.isfile(target_file_path):\n",
    "            continue\n",
    "\n",
    "        try:\n",
    "            df = pd.read_csv(target_file_path,\n",
    "                             sep=r'\\s+',\n",
    "                             header=None,\n",
    "                             usecols=[0],\n",
    "                             dtype={0: int})\n",
    "        except Exception as e:\n",
    "            print(f\"Skipping {target_file_path}: could not read ({e})\")\n",
    "            continue\n",
    "\n",
    "        present_ids = set(df[0]).intersection(id_check)\n",
    "        for found_id in present_ids:\n",
    "            id_to_files[found_id].append(target_file_path)\n",
    "\n",
    "    return id_to_files\n",
    "\n",
    "with open('../../../randy/rfb/tidy_data/UKBiobank/dementia/cognitive_tests/cognitive_columns.pkl', 'rb') as f:\n",
    "    cognitive_tests = pickle.load(f)\n",
    "\n",
    "for x in range(len(cognitive_tests)):\n",
    "    cognitive_tests[x] = int(cognitive_tests[x].split('-')[0])\n",
    "\n",
    "# Example usage:\n",
    "if __name__ == \"__main__\":\n",
    "    ids_to_check = cognitive_tests\n",
    "    result = id_loc([21001, 4282, 20023, 20016, 6348, 6349, 6350, 6351, 6333, 6325, 20197, 20018, 400])\n",
    "    print(result)\n",
    "    print(\"Search completed.\")"
   ]
  },
  {
   "cell_type": "code",
   "execution_count": 4,
   "id": "330759e7",
   "metadata": {},
   "outputs": [
    {
     "data": {
      "text/plain": [
       "False"
      ]
     },
     "execution_count": 4,
     "metadata": {},
     "output_type": "execute_result"
    }
   ],
   "source": [
    "any('../../../uk_biobank/project_52887_669338/ukb669338.csv' in files for files in result.values())"
   ]
  }
 ],
 "metadata": {
  "kernelspec": {
   "display_name": "Python (lowpyAD)",
   "language": "python",
   "name": "lowpyad"
  },
  "language_info": {
   "codemirror_mode": {
    "name": "ipython",
    "version": 3
   },
   "file_extension": ".py",
   "mimetype": "text/x-python",
   "name": "python",
   "nbconvert_exporter": "python",
   "pygments_lexer": "ipython3",
   "version": "3.10.18"
  }
 },
 "nbformat": 4,
 "nbformat_minor": 5
}

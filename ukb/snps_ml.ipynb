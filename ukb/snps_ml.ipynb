{
 "cells": [
  {
   "cell_type": "code",
   "execution_count": null,
   "id": "64679420-ef92-47dd-9680-7766dba1cde5",
   "metadata": {},
   "outputs": [],
   "source": [
    "import argparse\n",
    "import logging\n",
    "import os\n",
    "import sys\n",
    "import joblib\n",
    "\n",
    "import pandas as pd\n",
    "import numpy as np\n",
    "from sklearn.model_selection import StratifiedKFold\n",
    "from datetime import datetime"
   ]
  },
  {
   "cell_type": "code",
   "execution_count": null,
   "id": "307db5b5-c3da-4670-b134-af1f18f4ad63",
   "metadata": {},
   "outputs": [],
   "source": [
    "skf = StratifiedKFold(n_splits=5, shuffle=True, random_state=1234321)\n",
    "skf.get_n_splits(\n",
    "\n",
    "for fold, (train_index, test_index) in enumerate(skf.split(X)):\n",
    "    X_train, X_test = X.iloc[train_idx], X.iloc[test_idx]\n",
    "    y_train, y_test = y.iloc[train_idx], y.iloc[test_idx]"
   ]
  },
  {
   "cell_type": "code",
   "execution_count": 4,
   "id": "0aa686a6",
   "metadata": {},
   "outputs": [
    {
     "data": {
      "text/html": [
       "<div>\n",
       "<style scoped>\n",
       "    .dataframe tbody tr th:only-of-type {\n",
       "        vertical-align: middle;\n",
       "    }\n",
       "\n",
       "    .dataframe tbody tr th {\n",
       "        vertical-align: top;\n",
       "    }\n",
       "\n",
       "    .dataframe thead th {\n",
       "        text-align: right;\n",
       "    }\n",
       "</style>\n",
       "<table border=\"1\" class=\"dataframe\">\n",
       "  <thead>\n",
       "    <tr style=\"text-align: right;\">\n",
       "      <th></th>\n",
       "      <th>IID</th>\n",
       "    </tr>\n",
       "  </thead>\n",
       "  <tbody>\n",
       "    <tr>\n",
       "      <th>0</th>\n",
       "      <td>3733928</td>\n",
       "    </tr>\n",
       "    <tr>\n",
       "      <th>1</th>\n",
       "      <td>3607009</td>\n",
       "    </tr>\n",
       "    <tr>\n",
       "      <th>2</th>\n",
       "      <td>2546462</td>\n",
       "    </tr>\n",
       "    <tr>\n",
       "      <th>3</th>\n",
       "      <td>4886993</td>\n",
       "    </tr>\n",
       "    <tr>\n",
       "      <th>4</th>\n",
       "      <td>2409738</td>\n",
       "    </tr>\n",
       "  </tbody>\n",
       "</table>\n",
       "</div>"
      ],
      "text/plain": [
       "       IID\n",
       "0  3733928\n",
       "1  3607009\n",
       "2  2546462\n",
       "3  4886993\n",
       "4  2409738"
      ]
     },
     "execution_count": 4,
     "metadata": {},
     "output_type": "execute_result"
    }
   ],
   "source": [
    "import pandas as pd\n",
    "df = pd.read_parquet('raw_apoe_AD.parquet', engine = 'fastparquet')\n",
    "df = df['IID'].to_frame() # just the id's, no snps\n",
    "df.head()"
   ]
  },
  {
   "cell_type": "code",
   "execution_count": 5,
   "id": "843f49ca",
   "metadata": {},
   "outputs": [],
   "source": [
    "lancets = pd.read_parquet('../../../randy/rfb/tidy_data/UKBiobank/dementia/lancet2024/lancet2024_preprocessed.parquet', engine = 'fastparquet')"
   ]
  },
  {
   "cell_type": "code",
   "execution_count": 10,
   "id": "4989f20a",
   "metadata": {},
   "outputs": [
    {
     "name": "stdout",
     "output_type": "stream",
     "text": [
      "Overlap columns: ['4700-0.0', '5901-0.0', '30780-0.0', 'head_injury', '22038-0.0', '20161-0.0', 'alcohol_consumption', 'hypertension', 'obesity', 'diabetes', 'hearing_loss', 'depression', 'freq_friends_family_visit', '24012-0.0', '24018-0.0', '24019-0.0', '24006-0.0', '24015-0.0', '24011-0.0']\n"
     ]
    }
   ],
   "source": [
    "lancet_vars = [\n",
    "        \"4700-0.0\",\n",
    "        \"5901-0.0\",\n",
    "        \"30780-0.0\",\n",
    "        \"head_injury\",\n",
    "        \"22038-0.0\",\n",
    "        \"20161-0.0\",\n",
    "        \"alcohol_consumption\",\n",
    "        \"hypertension\",\n",
    "        \"obesity\",\n",
    "        \"diabetes\",\n",
    "        \"hearing_loss\",\n",
    "        \"depression\",\n",
    "        \"freq_friends_family_visit\",\n",
    "        \"24012-0.0\",\n",
    "        \"24018-0.0\",\n",
    "        \"24019-0.0\",\n",
    "        \"24006-0.0\",\n",
    "        \"24015-0.0\",\n",
    "        \"24011-0.0\",\n",
    "        \"2020-0.0_-3.0\",\n",
    "        \"2020-0.0_-1.0\",\n",
    "        \"2020-0.0_0.0\",\n",
    "        \"2020-0.0_1.0\",\n",
    "        \"2020-0.0_nan\",\n",
    "    ]\n",
    "\n",
    "overlap = [col for col in lancet_vars if col in lancets.columns]\n",
    "print(\"Overlap columns:\", overlap)"
   ]
  },
  {
   "cell_type": "code",
   "execution_count": null,
   "id": "eafecf7d-3f80-4c30-9727-3e0396e28d26",
   "metadata": {},
   "outputs": [],
   "source": [
    "def settings_automl(time_budget, metric, model):\n",
    "    \"\"\"\n",
    "    Generate settings for an AutoML classification task.\n",
    "    Parameters:\n",
    "    time_budget (int): The time budget for the AutoML process in seconds.\n",
    "    metric (str): The evaluation metric to be used (e.g., 'log_loss' 'accuracy', 'f1').\n",
    "    model (str): The model to be used in the AutoML process (e.g., 'lrl1').\n",
    "    region_index (int): The index of the region for logging purposes.\n",
    "    Returns:\n",
    "    dict: A dictionary containing the settings for the AutoML process.\n",
    "    \"\"\"\n",
    "    automl_settings = {\n",
    "            \"task\": \"classification\",\n",
    "            \"time_budget\": time_budget,\n",
    "            \"metric\": 'log_loss',\n",
    "            \"n_jobs\": -1,\n",
    "            \"eval_method\": \"cv\",\n",
    "            \"n_splits\": 5,\n",
    "            \"early_stop\": True,\n",
    "            \"log_training_metric\": True,\n",
    "            \"model_history\": True,\n",
    "            \"seed\": 1234321,\n",
    "            \"estimator_list\": [model],\n",
    "    }\n",
    "\n",
    "    return automl_settings"
   ]
  },
  {
   "cell_type": "code",
   "execution_count": null,
   "id": "01c44da8-d88d-422a-b512-40c8129cec08",
   "metadata": {},
   "outputs": [],
   "source": [
    "def main(): \n",
    "    FLAML_TIME_BUDGET = 3600\n",
    "    \n",
    "    #print(os.getcwd())\n",
    "    snps = pd.read_parquet(\"raw_snps_AD.parquet\") #what is IDP??\n",
    "\n",
    "    # set up logging\n",
    "    logging.basicConfig(filename=f\"{results_dir}/logging.txt\", level=logging.INFO)\n",
    "    logging.info(\n",
    "        \"Running experiment with snps\",\n",
    "        snps\n",
    "    )\n",
    "    logging.info(\"X shape: %s\", X.shape)\n",
    "    logging.info(\"y shape: %s\", y.shape)\n",
    "\n",
    "    "
   ]
  }
 ],
 "metadata": {
  "kernelspec": {
   "display_name": "lowpyAD",
   "language": "python",
   "name": "python3"
  },
  "language_info": {
   "codemirror_mode": {
    "name": "ipython",
    "version": 3
   },
   "file_extension": ".py",
   "mimetype": "text/x-python",
   "name": "python",
   "nbconvert_exporter": "python",
   "pygments_lexer": "ipython3",
   "version": "3.10.18"
  }
 },
 "nbformat": 4,
 "nbformat_minor": 5
}

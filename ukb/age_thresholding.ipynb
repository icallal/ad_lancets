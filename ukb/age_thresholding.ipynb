{
 "cells": [
  {
   "cell_type": "code",
   "execution_count": 1,
   "metadata": {},
   "outputs": [],
   "source": [
    "import pandas as pd\n",
    "df = pd.read_parquet('allcausedementia.parquet', engine = 'fastparquet')\n",
    "df_demographics = pd.read_parquet('../../../randy/proj_idp/tidy_data/demographics/demographics_df.parquet', engine = 'fastparquet')\n",
    "\n",
    "patient_df = pd.read_parquet('raw_allsnps_AD.parquet', engine = 'fastparquet')\n"
   ]
  },
  {
   "cell_type": "code",
   "execution_count": 3,
   "metadata": {},
   "outputs": [
    {
     "data": {
      "text/plain": [
       "(487409, 1047)"
      ]
     },
     "execution_count": 3,
     "metadata": {},
     "output_type": "execute_result"
    }
   ],
   "source": [
    "patient_df.shape"
   ]
  },
  {
   "cell_type": "code",
   "execution_count": 2,
   "metadata": {},
   "outputs": [
    {
     "name": "stdout",
     "output_type": "stream",
     "text": [
      "0    58.0\n",
      "1    43.0\n",
      "2    40.0\n",
      "3    59.0\n",
      "4    45.0\n",
      "Name: 21003-0.0, dtype: float64\n"
     ]
    }
   ],
   "source": [
    "first_occ = df_demographics['53-0.0']\n",
    "dates = pd.to_datetime(first_occ)\n",
    "\n",
    "curr = pd.to_datetime('2022-01-01')\n",
    "add_age = curr - dates\n",
    "\n",
    "age = df_demographics['21003-0.0']\n",
    "print(age.head())\n",
    "years_until = add_age.dt.total_seconds() / (365.25 * 24 * 3600)\n",
    "df_demographics['curr_age'] = (years_until + age).round()\n"
   ]
  },
  {
   "cell_type": "code",
   "execution_count": null,
   "metadata": {},
   "outputs": [
    {
     "data": {
      "text/plain": [
       "Index(['eid', '6138-0.0', '6138-0.1', '6138-0.2', '6138-0.3', '6138-0.4',\n",
       "       '6138-0.5', '6138-1.0', '6138-1.1', '6138-1.2', '6138-1.3', '6138-1.4',\n",
       "       '6138-1.5', '6138-2.0', '6138-2.1', '6138-2.2', '6138-2.3', '6138-2.4',\n",
       "       '6138-2.5', '6138-3.0', '6138-3.1', '6138-3.2', '6138-3.3', '6138-3.4',\n",
       "       '6138-3.5', '53-0.0', '53-1.0', '53-2.0', '53-3.0', '54-0.0', '54-1.0',\n",
       "       '54-2.0', '54-3.0', '21003-0.0', '21003-1.0', '21003-2.0', '21003-3.0',\n",
       "       '21003-0.0_squared', '21003-1.0_squared', '21003-2.0_squared',\n",
       "       '21003-3.0_squared', '31-0.0', '21000-0.0', '21000-1.0', '21000-2.0',\n",
       "       '845-0.0', '845-1.0', '845-2.0', 'curr_age'],\n",
       "      dtype='object')"
      ]
     },
     "execution_count": 3,
     "metadata": {},
     "output_type": "execute_result"
    }
   ],
   "source": [
    "df_demographics.head()\n",
    "df_demographics.columns "
   ]
  },
  {
   "cell_type": "code",
   "execution_count": 7,
   "metadata": {},
   "outputs": [
    {
     "data": {
      "text/html": [
       "<div>\n",
       "<style scoped>\n",
       "    .dataframe tbody tr th:only-of-type {\n",
       "        vertical-align: middle;\n",
       "    }\n",
       "\n",
       "    .dataframe tbody tr th {\n",
       "        vertical-align: top;\n",
       "    }\n",
       "\n",
       "    .dataframe thead th {\n",
       "        text-align: right;\n",
       "    }\n",
       "</style>\n",
       "<table border=\"1\" class=\"dataframe\">\n",
       "  <thead>\n",
       "    <tr style=\"text-align: right;\">\n",
       "      <th></th>\n",
       "      <th>eid</th>\n",
       "      <th>6138-0.0</th>\n",
       "      <th>6138-0.1</th>\n",
       "      <th>6138-0.2</th>\n",
       "      <th>6138-0.3</th>\n",
       "      <th>6138-0.4</th>\n",
       "      <th>6138-0.5</th>\n",
       "      <th>6138-1.0</th>\n",
       "      <th>6138-1.1</th>\n",
       "      <th>6138-1.2</th>\n",
       "      <th>...</th>\n",
       "      <th>21003-2.0_squared</th>\n",
       "      <th>21003-3.0_squared</th>\n",
       "      <th>31-0.0</th>\n",
       "      <th>21000-0.0</th>\n",
       "      <th>21000-1.0</th>\n",
       "      <th>21000-2.0</th>\n",
       "      <th>845-0.0</th>\n",
       "      <th>845-1.0</th>\n",
       "      <th>845-2.0</th>\n",
       "      <th>curr_age</th>\n",
       "    </tr>\n",
       "  </thead>\n",
       "  <tbody>\n",
       "    <tr>\n",
       "      <th>0</th>\n",
       "      <td>6025251</td>\n",
       "      <td>NaN</td>\n",
       "      <td>NaN</td>\n",
       "      <td>NaN</td>\n",
       "      <td>NaN</td>\n",
       "      <td>NaN</td>\n",
       "      <td>NaN</td>\n",
       "      <td>NaN</td>\n",
       "      <td>NaN</td>\n",
       "      <td>NaN</td>\n",
       "      <td>...</td>\n",
       "      <td>4761.0</td>\n",
       "      <td>NaN</td>\n",
       "      <td>NaN</td>\n",
       "      <td>NaN</td>\n",
       "      <td>NaN</td>\n",
       "      <td>NaN</td>\n",
       "      <td>NaN</td>\n",
       "      <td>NaN</td>\n",
       "      <td>NaN</td>\n",
       "      <td>74.0</td>\n",
       "    </tr>\n",
       "    <tr>\n",
       "      <th>1</th>\n",
       "      <td>6025268</td>\n",
       "      <td>NaN</td>\n",
       "      <td>NaN</td>\n",
       "      <td>NaN</td>\n",
       "      <td>NaN</td>\n",
       "      <td>NaN</td>\n",
       "      <td>NaN</td>\n",
       "      <td>NaN</td>\n",
       "      <td>NaN</td>\n",
       "      <td>NaN</td>\n",
       "      <td>...</td>\n",
       "      <td>NaN</td>\n",
       "      <td>NaN</td>\n",
       "      <td>NaN</td>\n",
       "      <td>NaN</td>\n",
       "      <td>NaN</td>\n",
       "      <td>NaN</td>\n",
       "      <td>NaN</td>\n",
       "      <td>NaN</td>\n",
       "      <td>NaN</td>\n",
       "      <td>59.0</td>\n",
       "    </tr>\n",
       "    <tr>\n",
       "      <th>2</th>\n",
       "      <td>6025273</td>\n",
       "      <td>NaN</td>\n",
       "      <td>NaN</td>\n",
       "      <td>NaN</td>\n",
       "      <td>NaN</td>\n",
       "      <td>NaN</td>\n",
       "      <td>NaN</td>\n",
       "      <td>NaN</td>\n",
       "      <td>NaN</td>\n",
       "      <td>NaN</td>\n",
       "      <td>...</td>\n",
       "      <td>NaN</td>\n",
       "      <td>NaN</td>\n",
       "      <td>NaN</td>\n",
       "      <td>1001.0</td>\n",
       "      <td>NaN</td>\n",
       "      <td>NaN</td>\n",
       "      <td>NaN</td>\n",
       "      <td>NaN</td>\n",
       "      <td>NaN</td>\n",
       "      <td>56.0</td>\n",
       "    </tr>\n",
       "    <tr>\n",
       "      <th>3</th>\n",
       "      <td>1000054</td>\n",
       "      <td>-7.0</td>\n",
       "      <td>NaN</td>\n",
       "      <td>NaN</td>\n",
       "      <td>NaN</td>\n",
       "      <td>NaN</td>\n",
       "      <td>NaN</td>\n",
       "      <td>NaN</td>\n",
       "      <td>NaN</td>\n",
       "      <td>NaN</td>\n",
       "      <td>...</td>\n",
       "      <td>NaN</td>\n",
       "      <td>NaN</td>\n",
       "      <td>0.0</td>\n",
       "      <td>1001.0</td>\n",
       "      <td>NaN</td>\n",
       "      <td>NaN</td>\n",
       "      <td>17.0</td>\n",
       "      <td>NaN</td>\n",
       "      <td>NaN</td>\n",
       "      <td>71.0</td>\n",
       "    </tr>\n",
       "    <tr>\n",
       "      <th>4</th>\n",
       "      <td>1000078</td>\n",
       "      <td>1.0</td>\n",
       "      <td>2.0</td>\n",
       "      <td>4.0</td>\n",
       "      <td>NaN</td>\n",
       "      <td>NaN</td>\n",
       "      <td>NaN</td>\n",
       "      <td>NaN</td>\n",
       "      <td>NaN</td>\n",
       "      <td>NaN</td>\n",
       "      <td>...</td>\n",
       "      <td>NaN</td>\n",
       "      <td>NaN</td>\n",
       "      <td>0.0</td>\n",
       "      <td>1001.0</td>\n",
       "      <td>NaN</td>\n",
       "      <td>NaN</td>\n",
       "      <td>NaN</td>\n",
       "      <td>NaN</td>\n",
       "      <td>NaN</td>\n",
       "      <td>59.0</td>\n",
       "    </tr>\n",
       "  </tbody>\n",
       "</table>\n",
       "<p>5 rows × 49 columns</p>\n",
       "</div>"
      ],
      "text/plain": [
       "       eid  6138-0.0  6138-0.1  6138-0.2  6138-0.3  6138-0.4  6138-0.5  \\\n",
       "0  6025251       NaN       NaN       NaN       NaN       NaN       NaN   \n",
       "1  6025268       NaN       NaN       NaN       NaN       NaN       NaN   \n",
       "2  6025273       NaN       NaN       NaN       NaN       NaN       NaN   \n",
       "3  1000054      -7.0       NaN       NaN       NaN       NaN       NaN   \n",
       "4  1000078       1.0       2.0       4.0       NaN       NaN       NaN   \n",
       "\n",
       "   6138-1.0  6138-1.1  6138-1.2  ...  21003-2.0_squared  21003-3.0_squared  \\\n",
       "0       NaN       NaN       NaN  ...             4761.0                NaN   \n",
       "1       NaN       NaN       NaN  ...                NaN                NaN   \n",
       "2       NaN       NaN       NaN  ...                NaN                NaN   \n",
       "3       NaN       NaN       NaN  ...                NaN                NaN   \n",
       "4       NaN       NaN       NaN  ...                NaN                NaN   \n",
       "\n",
       "   31-0.0  21000-0.0  21000-1.0  21000-2.0  845-0.0  845-1.0  845-2.0  \\\n",
       "0     NaN        NaN        NaN        NaN      NaN      NaN      NaN   \n",
       "1     NaN        NaN        NaN        NaN      NaN      NaN      NaN   \n",
       "2     NaN     1001.0        NaN        NaN      NaN      NaN      NaN   \n",
       "3     0.0     1001.0        NaN        NaN     17.0      NaN      NaN   \n",
       "4     0.0     1001.0        NaN        NaN      NaN      NaN      NaN   \n",
       "\n",
       "   curr_age  \n",
       "0      74.0  \n",
       "1      59.0  \n",
       "2      56.0  \n",
       "3      71.0  \n",
       "4      59.0  \n",
       "\n",
       "[5 rows x 49 columns]"
      ]
     },
     "execution_count": 7,
     "metadata": {},
     "output_type": "execute_result"
    }
   ],
   "source": [
    "df_demographics.head()"
   ]
  },
  {
   "cell_type": "code",
   "execution_count": 4,
   "metadata": {},
   "outputs": [],
   "source": [
    "df_demographics.to_parquet('demographics.parquet', engine='fastparquet')"
   ]
  },
  {
   "cell_type": "code",
   "execution_count": 9,
   "metadata": {},
   "outputs": [
    {
     "data": {
      "text/html": [
       "<div>\n",
       "<style scoped>\n",
       "    .dataframe tbody tr th:only-of-type {\n",
       "        vertical-align: middle;\n",
       "    }\n",
       "\n",
       "    .dataframe tbody tr th {\n",
       "        vertical-align: top;\n",
       "    }\n",
       "\n",
       "    .dataframe thead th {\n",
       "        text-align: right;\n",
       "    }\n",
       "</style>\n",
       "<table border=\"1\" class=\"dataframe\">\n",
       "  <thead>\n",
       "    <tr style=\"text-align: right;\">\n",
       "      <th></th>\n",
       "      <th>eid</th>\n",
       "      <th>curr_age</th>\n",
       "      <th>31-0.0</th>\n",
       "    </tr>\n",
       "  </thead>\n",
       "  <tbody>\n",
       "    <tr>\n",
       "      <th>0</th>\n",
       "      <td>6025251</td>\n",
       "      <td>74.0</td>\n",
       "      <td>NaN</td>\n",
       "    </tr>\n",
       "    <tr>\n",
       "      <th>1</th>\n",
       "      <td>6025268</td>\n",
       "      <td>59.0</td>\n",
       "      <td>NaN</td>\n",
       "    </tr>\n",
       "    <tr>\n",
       "      <th>2</th>\n",
       "      <td>6025273</td>\n",
       "      <td>56.0</td>\n",
       "      <td>NaN</td>\n",
       "    </tr>\n",
       "    <tr>\n",
       "      <th>3</th>\n",
       "      <td>1000054</td>\n",
       "      <td>71.0</td>\n",
       "      <td>0.0</td>\n",
       "    </tr>\n",
       "    <tr>\n",
       "      <th>4</th>\n",
       "      <td>1000078</td>\n",
       "      <td>59.0</td>\n",
       "      <td>0.0</td>\n",
       "    </tr>\n",
       "  </tbody>\n",
       "</table>\n",
       "</div>"
      ],
      "text/plain": [
       "       eid  curr_age  31-0.0\n",
       "0  6025251      74.0     NaN\n",
       "1  6025268      59.0     NaN\n",
       "2  6025273      56.0     NaN\n",
       "3  1000054      71.0     0.0\n",
       "4  1000078      59.0     0.0"
      ]
     },
     "execution_count": 9,
     "metadata": {},
     "output_type": "execute_result"
    }
   ],
   "source": [
    "# age and sex\n",
    "# age: 21003-0.0\n",
    "# sex: 31-0.0\n",
    "cols = ['eid', 'curr_age', '31-0.0']\n",
    "select_df = df_demographics[cols]\n",
    "select_df.head()"
   ]
  },
  {
   "cell_type": "code",
   "execution_count": 11,
   "metadata": {},
   "outputs": [],
   "source": [
    "merged_df = pd.merge(df, select_df, on = 'eid')"
   ]
  },
  {
   "cell_type": "code",
   "execution_count": null,
   "metadata": {},
   "outputs": [],
   "source": [
    "merged_df.to_parquet('allcausedementia.parquet', engine = 'fastparquet')"
   ]
  },
  {
   "cell_type": "code",
   "execution_count": 8,
   "metadata": {},
   "outputs": [
    {
     "data": {
      "text/plain": [
       "(355146, 3)"
      ]
     },
     "execution_count": 8,
     "metadata": {},
     "output_type": "execute_result"
    }
   ],
   "source": [
    "# 65+ only\n",
    "select_df = select_df[select_df['curr_age'] >= 65]\n",
    "select_df.shape\n"
   ]
  },
  {
   "cell_type": "code",
   "execution_count": 9,
   "metadata": {},
   "outputs": [],
   "source": [
    "# select and merge\n",
    "old_df = df[df['eid'].isin(select_df['eid'])]\n",
    "old_demo_df = pd.merge(old_df, select_df, on = 'eid')"
   ]
  },
  {
   "cell_type": "code",
   "execution_count": 10,
   "metadata": {},
   "outputs": [
    {
     "data": {
      "text/plain": [
       "(319429, 539)"
      ]
     },
     "execution_count": 10,
     "metadata": {},
     "output_type": "execute_result"
    }
   ],
   "source": [
    "old_demo_df.head()\n",
    "old_demo_df.shape"
   ]
  },
  {
   "cell_type": "code",
   "execution_count": 10,
   "metadata": {},
   "outputs": [],
   "source": [
    "old_demo_df.to_parquet('65up_sex.parquet', engine = 'fastparquet')"
   ]
  },
  {
   "cell_type": "code",
   "execution_count": null,
   "metadata": {},
   "outputs": [],
   "source": []
  }
 ],
 "metadata": {
  "kernelspec": {
   "display_name": "lowpyAD",
   "language": "python",
   "name": "python3"
  },
  "language_info": {
   "codemirror_mode": {
    "name": "ipython",
    "version": 3
   },
   "file_extension": ".py",
   "mimetype": "text/x-python",
   "name": "python",
   "nbconvert_exporter": "python",
   "pygments_lexer": "ipython3",
   "version": "3.10.18"
  }
 },
 "nbformat": 4,
 "nbformat_minor": 4
}

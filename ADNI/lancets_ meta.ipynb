{
 "cells": [
  {
   "cell_type": "code",
   "execution_count": 1,
   "id": "2a2e0780",
   "metadata": {},
   "outputs": [],
   "source": [
    "import pandas as pd\n",
    "\n",
    "df = pd.read_parquet('ADNI_cleaned.parquet', engine = 'fastparquet')"
   ]
  },
  {
   "cell_type": "code",
   "execution_count": 2,
   "id": "53ca3369",
   "metadata": {},
   "outputs": [
    {
     "data": {
      "text/plain": [
       "(1878, 17)"
      ]
     },
     "execution_count": 2,
     "metadata": {},
     "output_type": "execute_result"
    }
   ],
   "source": [
    "df.shape"
   ]
  },
  {
   "cell_type": "code",
   "execution_count": 2,
   "id": "ceec7cff",
   "metadata": {},
   "outputs": [
    {
     "data": {
      "text/plain": [
       "0       16.0\n",
       "1       18.0\n",
       "2       10.0\n",
       "3       16.0\n",
       "4       10.0\n",
       "        ... \n",
       "1873    18.0\n",
       "1874    18.0\n",
       "1875    16.0\n",
       "1876    14.0\n",
       "1877    12.0\n",
       "Name: PTEDUCAT, Length: 1878, dtype: float64"
      ]
     },
     "execution_count": 2,
     "metadata": {},
     "output_type": "execute_result"
    }
   ],
   "source": [
    "df['PTEDUCAT']"
   ]
  },
  {
   "cell_type": "code",
   "execution_count": null,
   "id": "22fd73db",
   "metadata": {},
   "outputs": [],
   "source": [
    "df.isna().sum()"
   ]
  },
  {
   "cell_type": "code",
   "execution_count": null,
   "id": "859e0457",
   "metadata": {},
   "outputs": [],
   "source": [
    "import sys\n",
    "import sys\n",
    "sys.path.append('../ukb')  # adjust the path as needed\n",
    "from doubleml_utils import run_dml\n",
    "\n",
    "lancet_covs = ['GDTOTAL', 'MH14BALCH', 'MH16BSMOK', 'CLINICAL_LDL_C', 'PTEDUCAT', 'HMHYPERT', 'bmi']\n",
    "\n",
    "df = df.dropna()\n",
    "\n",
    "def assess_lancets_dml(features): \n",
    "    feature_summaries = {}\n",
    "    for feature in features: \n",
    "        print(f\"Running DML for feature: {feature}\")\n",
    "        covariate = df.drop(columns=lancet_covs+['RID', 'DXAD'])\n",
    "        outcome = df['DXAD']\n",
    "        exposure = df[feature]\n",
    "\n",
    "        dml_model = run_dml(covariate, outcome, exposure)\n",
    "        feature_summaries[feature] = dml_model.summary\n",
    "    \n",
    "    return feature_summaries\n",
    "\n",
    "results = assess_lancets_dml(lancet_covs)"
   ]
  },
  {
   "cell_type": "code",
   "execution_count": 4,
   "id": "c1056575",
   "metadata": {},
   "outputs": [],
   "source": [
    "rows = []\n",
    "\n",
    "for test_id, df in results.items():\n",
    "    # Pull the row for `d` as a dictionary and tag with the test_id\n",
    "    row = df.loc['d'].to_dict()\n",
    "    row['test_id'] = test_id\n",
    "    rows.append(row)\n",
    "\n",
    "# Convert to a DataFrame\n",
    "summary_df = pd.DataFrame(rows)\n",
    "\n",
    "# Move 'test_id' to the front\n",
    "summary_df = summary_df[['test_id'] + [col for col in summary_df.columns if col != 'test_id']]"
   ]
  },
  {
   "cell_type": "code",
   "execution_count": 5,
   "id": "71210ef9",
   "metadata": {},
   "outputs": [
    {
     "data": {
      "text/html": [
       "<div>\n",
       "<style scoped>\n",
       "    .dataframe tbody tr th:only-of-type {\n",
       "        vertical-align: middle;\n",
       "    }\n",
       "\n",
       "    .dataframe tbody tr th {\n",
       "        vertical-align: top;\n",
       "    }\n",
       "\n",
       "    .dataframe thead th {\n",
       "        text-align: right;\n",
       "    }\n",
       "</style>\n",
       "<table border=\"1\" class=\"dataframe\">\n",
       "  <thead>\n",
       "    <tr style=\"text-align: right;\">\n",
       "      <th></th>\n",
       "      <th>test_id</th>\n",
       "      <th>coef</th>\n",
       "      <th>std err</th>\n",
       "      <th>t</th>\n",
       "      <th>P&gt;|t|</th>\n",
       "      <th>2.5 %</th>\n",
       "      <th>97.5 %</th>\n",
       "    </tr>\n",
       "  </thead>\n",
       "  <tbody>\n",
       "    <tr>\n",
       "      <th>0</th>\n",
       "      <td>GDTOTAL</td>\n",
       "      <td>0.016181</td>\n",
       "      <td>0.026738</td>\n",
       "      <td>0.605172</td>\n",
       "      <td>5.450644e-01</td>\n",
       "      <td>-0.036225</td>\n",
       "      <td>0.068588</td>\n",
       "    </tr>\n",
       "    <tr>\n",
       "      <th>1</th>\n",
       "      <td>MH14BALCH</td>\n",
       "      <td>-0.003318</td>\n",
       "      <td>0.001154</td>\n",
       "      <td>-2.874142</td>\n",
       "      <td>4.051271e-03</td>\n",
       "      <td>-0.005580</td>\n",
       "      <td>-0.001055</td>\n",
       "    </tr>\n",
       "    <tr>\n",
       "      <th>2</th>\n",
       "      <td>MH16BSMOK</td>\n",
       "      <td>-0.004000</td>\n",
       "      <td>0.000418</td>\n",
       "      <td>-9.579694</td>\n",
       "      <td>9.733331e-22</td>\n",
       "      <td>-0.004818</td>\n",
       "      <td>-0.003182</td>\n",
       "    </tr>\n",
       "    <tr>\n",
       "      <th>3</th>\n",
       "      <td>CLINICAL_LDL_C</td>\n",
       "      <td>0.024177</td>\n",
       "      <td>0.011263</td>\n",
       "      <td>2.146538</td>\n",
       "      <td>3.183007e-02</td>\n",
       "      <td>0.002101</td>\n",
       "      <td>0.046253</td>\n",
       "    </tr>\n",
       "    <tr>\n",
       "      <th>4</th>\n",
       "      <td>PTEDUCAT</td>\n",
       "      <td>-0.016005</td>\n",
       "      <td>0.002802</td>\n",
       "      <td>-5.711672</td>\n",
       "      <td>1.118717e-08</td>\n",
       "      <td>-0.021498</td>\n",
       "      <td>-0.010513</td>\n",
       "    </tr>\n",
       "    <tr>\n",
       "      <th>5</th>\n",
       "      <td>HMHYPERT</td>\n",
       "      <td>0.002141</td>\n",
       "      <td>0.013925</td>\n",
       "      <td>0.153764</td>\n",
       "      <td>8.777957e-01</td>\n",
       "      <td>-0.025151</td>\n",
       "      <td>0.029433</td>\n",
       "    </tr>\n",
       "    <tr>\n",
       "      <th>6</th>\n",
       "      <td>bmi</td>\n",
       "      <td>-0.003507</td>\n",
       "      <td>0.001291</td>\n",
       "      <td>-2.716256</td>\n",
       "      <td>6.602487e-03</td>\n",
       "      <td>-0.006038</td>\n",
       "      <td>-0.000977</td>\n",
       "    </tr>\n",
       "  </tbody>\n",
       "</table>\n",
       "</div>"
      ],
      "text/plain": [
       "          test_id      coef   std err         t         P>|t|     2.5 %  \\\n",
       "0         GDTOTAL  0.016181  0.026738  0.605172  5.450644e-01 -0.036225   \n",
       "1       MH14BALCH -0.003318  0.001154 -2.874142  4.051271e-03 -0.005580   \n",
       "2       MH16BSMOK -0.004000  0.000418 -9.579694  9.733331e-22 -0.004818   \n",
       "3  CLINICAL_LDL_C  0.024177  0.011263  2.146538  3.183007e-02  0.002101   \n",
       "4        PTEDUCAT -0.016005  0.002802 -5.711672  1.118717e-08 -0.021498   \n",
       "5        HMHYPERT  0.002141  0.013925  0.153764  8.777957e-01 -0.025151   \n",
       "6             bmi -0.003507  0.001291 -2.716256  6.602487e-03 -0.006038   \n",
       "\n",
       "     97.5 %  \n",
       "0  0.068588  \n",
       "1 -0.001055  \n",
       "2 -0.003182  \n",
       "3  0.046253  \n",
       "4 -0.010513  \n",
       "5  0.029433  \n",
       "6 -0.000977  "
      ]
     },
     "execution_count": 5,
     "metadata": {},
     "output_type": "execute_result"
    }
   ],
   "source": [
    "summary_df"
   ]
  },
  {
   "cell_type": "code",
   "execution_count": null,
   "id": "9696d00d",
   "metadata": {},
   "outputs": [],
   "source": [
    "summary_df.to_csv('./double_ml/adni_lancet_meta.txt')"
   ]
  }
 ],
 "metadata": {
  "kernelspec": {
   "display_name": "Python (lowpyAD)",
   "language": "python",
   "name": "lowpyad"
  },
  "language_info": {
   "codemirror_mode": {
    "name": "ipython",
    "version": 3
   },
   "file_extension": ".py",
   "mimetype": "text/x-python",
   "name": "python",
   "nbconvert_exporter": "python",
   "pygments_lexer": "ipython3",
   "version": "3.10.18"
  }
 },
 "nbformat": 4,
 "nbformat_minor": 5
}
